{
 "cells": [
  {
   "cell_type": "code",
   "execution_count": 1,
   "id": "8c7ffb4f-c5bc-42c4-af78-5d3cda6c536c",
   "metadata": {},
   "outputs": [],
   "source": [
    "import os\n",
    "from dotenv import load_dotenv\n",
    "load_dotenv()\n",
    "import pandas as pd\n",
    "import requests\n",
    "wd = os.getcwd()"
   ]
  },
  {
   "cell_type": "code",
   "execution_count": 2,
   "id": "f57c49c9-8255-4475-8f2e-6ed4f0a8c3ae",
   "metadata": {},
   "outputs": [
    {
     "name": "stderr",
     "output_type": "stream",
     "text": [
      "2024-06-09 21:52:30.058 \n",
      "  \u001b[33m\u001b[1mWarning:\u001b[0m to view this Streamlit app on a browser, run it with the following\n",
      "  command:\n",
      "\n",
      "    streamlit run C:\\Users\\abhis\\AppData\\Local\\Continuum\\anaconda3\\envs\\langchain\\lib\\site-packages\\ipykernel_launcher.py [ARGUMENTS]\n",
      "2024-06-09 21:52:30.060 Session state does not function when running a script without `streamlit run`\n"
     ]
    },
    {
     "ename": "KeyError",
     "evalue": "'st.session_state has no key \"user_input\". Did you forget to initialize it? More info: https://docs.streamlit.io/library/advanced-features/session-state#initialization'",
     "output_type": "error",
     "traceback": [
      "\u001b[1;31m---------------------------------------------------------------------------\u001b[0m",
      "\u001b[1;31mKeyError\u001b[0m                                  Traceback (most recent call last)",
      "File \u001b[1;32m~\\AppData\\Local\\Continuum\\anaconda3\\envs\\langchain\\lib\\site-packages\\streamlit\\runtime\\state\\session_state.py:408\u001b[0m, in \u001b[0;36mSessionState.__getitem__\u001b[1;34m(self, key)\u001b[0m\n\u001b[0;32m    407\u001b[0m \u001b[38;5;28;01mtry\u001b[39;00m:\n\u001b[1;32m--> 408\u001b[0m     \u001b[38;5;28;01mreturn\u001b[39;00m \u001b[38;5;28;43mself\u001b[39;49m\u001b[38;5;241;43m.\u001b[39;49m\u001b[43m_getitem\u001b[49m\u001b[43m(\u001b[49m\u001b[43mwidget_id\u001b[49m\u001b[43m,\u001b[49m\u001b[43m \u001b[49m\u001b[43mkey\u001b[49m\u001b[43m)\u001b[49m\n\u001b[0;32m    409\u001b[0m \u001b[38;5;28;01mexcept\u001b[39;00m \u001b[38;5;167;01mKeyError\u001b[39;00m:\n",
      "File \u001b[1;32m~\\AppData\\Local\\Continuum\\anaconda3\\envs\\langchain\\lib\\site-packages\\streamlit\\runtime\\state\\session_state.py:453\u001b[0m, in \u001b[0;36mSessionState._getitem\u001b[1;34m(self, widget_id, user_key)\u001b[0m\n\u001b[0;32m    452\u001b[0m \u001b[38;5;66;03m# We'll never get here\u001b[39;00m\n\u001b[1;32m--> 453\u001b[0m \u001b[38;5;28;01mraise\u001b[39;00m \u001b[38;5;167;01mKeyError\u001b[39;00m\n",
      "\u001b[1;31mKeyError\u001b[0m: ",
      "\nDuring handling of the above exception, another exception occurred:\n",
      "\u001b[1;31mKeyError\u001b[0m                                  Traceback (most recent call last)",
      "Cell \u001b[1;32mIn[2], line 42\u001b[0m\n\u001b[0;32m     38\u001b[0m \tst\u001b[38;5;241m.\u001b[39msession_state\u001b[38;5;241m.\u001b[39muser_input\u001b[38;5;241m.\u001b[39mappend(output)\n\u001b[0;32m     40\u001b[0m message_history \u001b[38;5;241m=\u001b[39m st\u001b[38;5;241m.\u001b[39mempty()\n\u001b[1;32m---> 42\u001b[0m \u001b[38;5;28;01mif\u001b[39;00m \u001b[43mst\u001b[49m\u001b[38;5;241;43m.\u001b[39;49m\u001b[43msession_state\u001b[49m\u001b[43m[\u001b[49m\u001b[38;5;124;43m'\u001b[39;49m\u001b[38;5;124;43muser_input\u001b[39;49m\u001b[38;5;124;43m'\u001b[39;49m\u001b[43m]\u001b[49m:\n\u001b[0;32m     43\u001b[0m \t\u001b[38;5;28;01mfor\u001b[39;00m i \u001b[38;5;129;01min\u001b[39;00m \u001b[38;5;28mrange\u001b[39m(\u001b[38;5;28mlen\u001b[39m(st\u001b[38;5;241m.\u001b[39msession_state[\u001b[38;5;124m'\u001b[39m\u001b[38;5;124muser_input\u001b[39m\u001b[38;5;124m'\u001b[39m]) \u001b[38;5;241m-\u001b[39m \u001b[38;5;241m1\u001b[39m, \u001b[38;5;241m-\u001b[39m\u001b[38;5;241m1\u001b[39m, \u001b[38;5;241m-\u001b[39m\u001b[38;5;241m1\u001b[39m):\n\u001b[0;32m     44\u001b[0m \t\t\u001b[38;5;66;03m# This function displays user input\u001b[39;00m\n\u001b[0;32m     45\u001b[0m \t\tmessage(st\u001b[38;5;241m.\u001b[39msession_state[\u001b[38;5;124m\"\u001b[39m\u001b[38;5;124muser_input\u001b[39m\u001b[38;5;124m\"\u001b[39m][i], \n\u001b[0;32m     46\u001b[0m \t\t\t\tkey\u001b[38;5;241m=\u001b[39m\u001b[38;5;28mstr\u001b[39m(i),avatar_style\u001b[38;5;241m=\u001b[39m\u001b[38;5;124m\"\u001b[39m\u001b[38;5;124micons\u001b[39m\u001b[38;5;124m\"\u001b[39m)\n",
      "File \u001b[1;32m~\\AppData\\Local\\Continuum\\anaconda3\\envs\\langchain\\lib\\site-packages\\streamlit\\runtime\\state\\session_state_proxy.py:90\u001b[0m, in \u001b[0;36mSessionStateProxy.__getitem__\u001b[1;34m(self, key)\u001b[0m\n\u001b[0;32m     88\u001b[0m key \u001b[38;5;241m=\u001b[39m \u001b[38;5;28mstr\u001b[39m(key)\n\u001b[0;32m     89\u001b[0m require_valid_user_key(key)\n\u001b[1;32m---> 90\u001b[0m \u001b[38;5;28;01mreturn\u001b[39;00m \u001b[43mget_session_state\u001b[49m\u001b[43m(\u001b[49m\u001b[43m)\u001b[49m\u001b[43m[\u001b[49m\u001b[43mkey\u001b[49m\u001b[43m]\u001b[49m\n",
      "File \u001b[1;32m~\\AppData\\Local\\Continuum\\anaconda3\\envs\\langchain\\lib\\site-packages\\streamlit\\runtime\\state\\safe_session_state.py:93\u001b[0m, in \u001b[0;36mSafeSessionState.__getitem__\u001b[1;34m(self, key)\u001b[0m\n\u001b[0;32m     91\u001b[0m \u001b[38;5;28mself\u001b[39m\u001b[38;5;241m.\u001b[39m_yield_callback()\n\u001b[0;32m     92\u001b[0m \u001b[38;5;28;01mwith\u001b[39;00m \u001b[38;5;28mself\u001b[39m\u001b[38;5;241m.\u001b[39m_lock:\n\u001b[1;32m---> 93\u001b[0m     \u001b[38;5;28;01mreturn\u001b[39;00m \u001b[38;5;28;43mself\u001b[39;49m\u001b[38;5;241;43m.\u001b[39;49m\u001b[43m_state\u001b[49m\u001b[43m[\u001b[49m\u001b[43mkey\u001b[49m\u001b[43m]\u001b[49m\n",
      "File \u001b[1;32m~\\AppData\\Local\\Continuum\\anaconda3\\envs\\langchain\\lib\\site-packages\\streamlit\\runtime\\state\\session_state.py:410\u001b[0m, in \u001b[0;36mSessionState.__getitem__\u001b[1;34m(self, key)\u001b[0m\n\u001b[0;32m    408\u001b[0m     \u001b[38;5;28;01mreturn\u001b[39;00m \u001b[38;5;28mself\u001b[39m\u001b[38;5;241m.\u001b[39m_getitem(widget_id, key)\n\u001b[0;32m    409\u001b[0m \u001b[38;5;28;01mexcept\u001b[39;00m \u001b[38;5;167;01mKeyError\u001b[39;00m:\n\u001b[1;32m--> 410\u001b[0m     \u001b[38;5;28;01mraise\u001b[39;00m \u001b[38;5;167;01mKeyError\u001b[39;00m(_missing_key_error_message(key))\n",
      "\u001b[1;31mKeyError\u001b[0m: 'st.session_state has no key \"user_input\". Did you forget to initialize it? More info: https://docs.streamlit.io/library/advanced-features/session-state#initialization'"
     ]
    }
   ],
   "source": [
    "import streamlit as st\n",
    "import openai\n",
    "from streamlit_chat import message\n",
    "import os\n",
    "from dotenv import load_dotenv\n",
    "load_dotenv()\n",
    "import pandas as pd\n",
    "import requests\n",
    "wd = os.getcwd()\n",
    "openai.api_key = os.environ.get('OPENAI_API_KEY')\n",
    "\n",
    "def api_calling(prompt):\n",
    "\tcompletions = openai.Completion.create(\n",
    "\t\tengine=\"text-davinci-003\",\n",
    "\t\tprompt=prompt,\n",
    "\t\tmax_tokens=1024,\n",
    "\t\tn=1,\n",
    "\t\tstop=None,\n",
    "\t\ttemperature=0.5,\n",
    "\t)\n",
    "\tmessage = completions.choices[0].text\n",
    "\treturn message\n",
    "\n",
    "st.title(\"ChatGPT ChatBot With Streamlit and OpenAI\")\n",
    "if 'user_input' not in st.session_state:\n",
    "\tst.session_state['user_input'] = []\n",
    "\n",
    "if 'openai_response' not in st.session_state:\n",
    "\tst.session_state['openai_response'] = []\n",
    "\n",
    "def get_text():\n",
    "\tinput_text = st.text_input(\"write here\", key=\"input\")\n",
    "\treturn input_text\n",
    "\n",
    "user_input = get_text()\n",
    "\n",
    "if user_input:\n",
    "\toutput = api_calling(user_input)\n",
    "\toutput = output.lstrip(\"\\n\")\n",
    "\n",
    "\t# Store the output\n",
    "\tst.session_state.openai_response.append(user_input)\n",
    "\tst.session_state.user_input.append(output)\n",
    "\n",
    "message_history = st.empty()\n",
    "\n",
    "if st.session_state['user_input']:\n",
    "\tfor i in range(len(st.session_state['user_input']) - 1, -1, -1):\n",
    "\t\t# This function displays user input\n",
    "\t\tmessage(st.session_state[\"user_input\"][i], \n",
    "\t\t\t\tkey=str(i),avatar_style=\"icons\")\n",
    "\t\t# This function displays OpenAI response\n",
    "\t\tmessage(st.session_state['openai_response'][i], \n",
    "\t\t\t\tavatar_style=\"miniavs\",is_user=True,\n",
    "\t\t\t\tkey=str(i) + 'data_by_user')\n"
   ]
  },
  {
   "cell_type": "code",
   "execution_count": null,
   "id": "d4999528-adea-44a6-8328-8e02137f59bb",
   "metadata": {},
   "outputs": [],
   "source": []
  }
 ],
 "metadata": {
  "kernelspec": {
   "display_name": "Python 3 (ipykernel)",
   "language": "python",
   "name": "python3"
  },
  "language_info": {
   "codemirror_mode": {
    "name": "ipython",
    "version": 3
   },
   "file_extension": ".py",
   "mimetype": "text/x-python",
   "name": "python",
   "nbconvert_exporter": "python",
   "pygments_lexer": "ipython3",
   "version": "3.8.18"
  }
 },
 "nbformat": 4,
 "nbformat_minor": 5
}
